{
    "metadata": {
        "kernelspec": {
            "name": "SQL",
            "display_name": "SQL",
            "language": "sql"
        },
        "language_info": {
            "name": "sql",
            "version": ""
        }
    },
    "nbformat_minor": 2,
    "nbformat": 4,
    "cells": [
        {
            "cell_type": "markdown",
            "source": "Figure 2 – JSON data showing the sessions node and the first speaker node.  ",
            "metadata": {}
        },
        {
            "cell_type": "code",
            "source": "USE [JsonTest];\r\n\r\nDECLARE @AllJson AS NVARCHAR(MAX);\r\n\r\n   SET @AllJson =\r\n    (\r\n        SELECT [Data] FROM [dbo].[JsonData]\r\n    );\r\n\r\nSELECT CASE\r\n           WHEN ISJSON(@AllJson) = 1 THEN\r\n               'Yippe Valid Json'\r\n           ELSE\r\n               'Boo hoo not Valid Json'\r\n       END AS [CheckJSON];\r\n --if 1 returned then valid ON",
            "metadata": {},
            "outputs": [],
            "execution_count": 13
        },
        {
            "cell_type": "markdown",
            "source": "Figure 3 - First query just to return data from the 'sessions' node",
            "metadata": {}
        },
        {
            "cell_type": "code",
            "source": "USE [JsonTest];\r\n\r\nDECLARE @AllJson AS NVARCHAR(MAX);\r\n\r\nSET @AllJson =\r\n(\r\n    SELECT [Data] FROM [dbo].[JsonData]\r\n);\r\n\r\nSELECT \r\n       [s].[Key]\r\n     , [s].[Value]\r\n     , [s].[Type]\r\n     , JSON_VALUE(Value, '$.id')          AS SessionID\r\n     , JSON_VALUE(Value, '$.title')       AS SessionTitle\r\n     , JSON_VALUE(Value, '$.description') AS SessionDescription\r\n     , JSON_VALUE(Value, '$.startsAt')    AS SessionStartsAt\r\n     , JSON_VALUE(Value, '$.endsAt')      AS SessionEndsAt\r\n     , JSON_VALUE(Value, '$.roomId')      AS RoomID\r\nFROM OPENJSON(@AllJson, '$.sessions') AS s;",
            "metadata": {},
            "outputs": [],
            "execution_count": 14
        },
        {
            "cell_type": "markdown",
            "source": "Figure 5 – Updated query to return the speakerID from the []speakers array.",
            "metadata": {}
        },
        {
            "cell_type": "code",
            "source": "USE [JsonTest];\r\n\r\nDECLARE @AllJson AS NVARCHAR(MAX);\r\n\r\nSET @AllJson =\r\n(\r\n    SELECT [Data] FROM [dbo].[JsonData]\r\n);\r\n\r\nSELECT\r\n        JSON_VALUE(Value, '$.id')          AS SessionID\r\n      , JSON_VALUE(Value, '$.title')       AS SessionTitle\r\n      , JSON_VALUE(Value, '$.description') AS SessionDescription\r\n      , JSON_VALUE(Value, '$.startsAt')    AS SessionStartsAt\r\n      , JSON_VALUE(Value, '$.endsAt')      AS SessionEndsAt\r\n      , JSON_VALUE(Value, '$.roomId')      AS RoomID\r\n      , Speaker.[oi]                       AS SpeakerID\r\n    FROM OPENJSON(@AllJson, '$.sessions')               s\r\n        CROSS APPLY\r\n    (SELECT Value FROM OPENJSON(s.Value, '$.speakers')) Speaker(oi)\r\n    \tORDER BY [SessionID]",
            "metadata": {},
            "outputs": [],
            "execution_count": 15
        },
        {
            "cell_type": "markdown",
            "source": "Figure 6 – TSQL query to return data from the []speakers array",
            "metadata": {}
        },
        {
            "cell_type": "code",
            "source": "USE [JsonTest];\r\n\r\nDECLARE @AllJson AS NVARCHAR(MAX);\r\n\r\n   SET @AllJson =\r\n    (\r\n        SELECT [Data] FROM [dbo].[JsonData]\r\n    )\r\n;\r\n\r\nSELECT\r\n        JSON_VALUE(Value, '$.id')             AS ID\r\n      , JSON_VALUE(Value, '$.firstName')      AS FirstName\r\n      , JSON_VALUE(Value, '$.lastName')       AS LastName\r\n      , JSON_VALUE(Value, '$.bio')            AS SpeakerBio\r\n      , JSON_VALUE(Value, '$.tagLine')        AS SpeakerTagLine\r\n      , JSON_VALUE(Value, '$.profilePicture') AS ProfilePicture\r\n\t  , JSON_VALUE([LinksTw].[tw], '$.url')  AS TwitterHandle\r\n    FROM OPENJSON(@AllJson, '$.speakers') s\r\n        OUTER APPLY\r\n    (   SELECT Value  FROM OPENJSON(s.Value, '$.links')\r\n        WHERE Value LIKE '%Twitter%'\r\n\t\t) AS LinksTw(tw)\r\n\t\t;",
            "metadata": {},
            "outputs": [],
            "execution_count": 16
        },
        {
            "cell_type": "markdown",
            "source": "Figure 7 – Result set with Session, Speaker and room details ",
            "metadata": {}
        },
        {
            "cell_type": "code",
            "source": "/*https://visakhm.blogspot.com/2016/07/whats-new-in-sql-2016-native-json_13.html*/\r\nUSE [JsonTest];\r\n\r\nDECLARE @AllJson AS NVARCHAR(MAX);\r\n\r\n   SET @AllJson =\r\n    (\r\n        SELECT [Data] FROM [dbo].[JsonData]\r\n    )\r\n;\r\nWITH\r\n[Sessions]\r\nAS (SELECT\r\n        --[s].[Key]\r\n        JSON_VALUE(Value, '$.id')          AS SessionID\r\n      , JSON_VALUE(Value, '$.title')       AS SessionTitle\r\n      , JSON_VALUE(Value, '$.description') AS SessionDescription\r\n      , JSON_VALUE(Value, '$.startsAt')    AS SessionStartsAt\r\n      , JSON_VALUE(Value, '$.endsAt')      AS SessionEndsAt\r\n      , JSON_VALUE(Value, '$.roomId')      AS RoomID\r\n      , Speaker.[oi]                       AS SpeakerID\r\n    FROM OPENJSON(@AllJson, '$.sessions')               s\r\n        CROSS APPLY\r\n    (SELECT Value FROM OPENJSON(s.Value, '$.speakers')) Speaker(oi)\r\n--ORDER BY [SessionID]\r\n)\r\n,\r\n[Speakers]\r\nAS (SELECT\r\n        JSON_VALUE(Value, '$.id')             AS ID\r\n      , JSON_VALUE(Value, '$.firstName')      AS FirstName\r\n      , JSON_VALUE(Value, '$.lastName')       AS LastName\r\n      , JSON_VALUE(Value, '$.bio')            AS SpeakerBio\r\n      , JSON_VALUE(Value, '$.tagLine')        AS SpeakerTagLine\r\n      , JSON_VALUE(Value, '$.profilePicture') AS ProfilePicture\r\n      , '@'\r\n        + REPLACE(\r\n                     SUBSTRING(\r\n                                  JSON_VALUE([LinksTw].[tw], '$.url')\r\n                                , LEN(JSON_VALUE([LinksTw].[tw], '$.url'))\r\n                                  - CHARINDEX('/', REVERSE(JSON_VALUE([LinksTw].[tw], '$.url'))) + 2\r\n                                , LEN(JSON_VALUE([LinksTw].[tw], '$.url'))\r\n                                  - CHARINDEX('/', REVERSE(JSON_VALUE([LinksTw].[tw], '$.url')))\r\n                              )\r\n                   , '@'\r\n                   , ''\r\n                 )                            AS TwitterHandle\r\n    FROM OPENJSON(@AllJson, '$.speakers') s\r\n        OUTER APPLY\r\n    (\r\n        SELECT Value\r\n        FROM OPENJSON(s.Value, '$.links')\r\n        WHERE Value LIKE '%Twitter%'\r\n    )                                     LinksTw(tw))\r\n,\r\n[Speakers_With_Sessions]\r\nAS (SELECT [Sessions].[SessionID]\r\n         , [Sessions].[SessionTitle]\r\n         , [Sessions].[SessionDescription]\r\n         , [Sessions].[SessionStartsAt]\r\n         , [Sessions].[SessionEndsAt]\r\n         , [Sessions].[RoomID]\r\n         , [Sessions].[SpeakerID]\r\n         , [Speakers].[FirstName]\r\n         , [Speakers].[LastName]\r\n         , [Speakers].[SpeakerBio]\r\n         , [Speakers].[SpeakerTagLine]\r\n         , [Speakers].[ProfilePicture]\r\n         , [Speakers].[TwitterHandle]\r\n    FROM [Sessions]\r\n        LEFT JOIN [Speakers]\r\n            ON [Speakers].[ID] = [Sessions].[SpeakerID])\r\n,\r\n[Rooms]\r\nAS (SELECT JSON_VALUE(Value, '$.id')   AS RoomID\r\n         , JSON_VALUE(Value, '$.name') AS RoomName\r\n    FROM OPENJSON(@AllJson, '$.rooms') r)\r\nSELECT [Speakers_With_Sessions].[SessionID]\r\n     , [Speakers_With_Sessions].[SessionTitle]\r\n     , [Speakers_With_Sessions].[SessionDescription]\r\n     , [Speakers_With_Sessions].[SessionStartsAt]\r\n     , [Speakers_With_Sessions].[SessionEndsAt]\r\n     , [Speakers_With_Sessions].[RoomID]\r\n     , [Speakers_With_Sessions].[SpeakerID]\r\n     , [Speakers_With_Sessions].[FirstName]\r\n     , [Speakers_With_Sessions].[LastName]\r\n     , [Speakers_With_Sessions].[SpeakerBio]\r\n     , [Speakers_With_Sessions].[SpeakerTagLine]\r\n     , [Speakers_With_Sessions].[ProfilePicture]\r\n     , [Speakers_With_Sessions].[TwitterHandle]\r\n     , [Rooms].[RoomID]\r\n     , [Rooms].[RoomName]\r\nFROM [Speakers_With_Sessions]\r\n    LEFT JOIN [Rooms]\r\n        ON [Rooms].[RoomID] = [Speakers_With_Sessions].[RoomID];\r\n",
            "metadata": {},
            "outputs": [],
            "execution_count": 17
        }
    ]
}