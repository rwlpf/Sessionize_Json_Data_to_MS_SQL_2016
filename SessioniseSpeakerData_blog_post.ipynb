{
    "metadata": {
        "kernelspec": {
            "name": "python3",
            "display_name": "Python 3"
        },
        "language_info": {
            "name": "python",
            "version": "3.6.6",
            "mimetype": "text/x-python",
            "codemirror_mode": {
                "name": "ipython",
                "version": 3
            },
            "pygments_lexer": "ipython3",
            "nbconvert_exporter": "python",
            "file_extension": ".py"
        }
    },
    "nbformat_minor": 2,
    "nbformat": 4,
    "cells": [
        {
            "cell_type": "code",
            "source": "#load the required libaries\r\nimport requests, json, urllib.request, pyodbc \r\n\r\n#1 - call the API call and get the Jason string returned is this into a dict Object which is then cast to a string object.\r\nurl = 'https://sessionize.com/api/v2/jus73qsr/view/all'\r\n\r\n#https://stackoverflow.com/questions/12965203/how-to-get-json-from-webpage-into-python-script\r\ndata = urllib.request.urlopen(url).read()\r\noutput = json.loads(data)\r\n\r\n#Convert the 'Dict' object outputed to a string object\r\nstringOutput = json.dumps(output)\r\n\r\n\r\n#https://github.com/jiangwen365/pypyodbc\r\n#db_host = database instance name\r\n#db_host = 'serverhost'\r\ndb_host = 'WIN-OPT-077\\MSSQLSERVER_2016'\r\n#db_name = is the name of the database which contains the table going to write the data to\r\ndb_name = 'JsonTest'\r\n#SQL user account which is member of db_datawriter and db_ddladmin roles for the database where going to create the database\r\ndb_user = 'JsonUser'\r\ndb_password = 'test123'\r\nconnection_string = 'Driver={SQL Server};Server=' + db_host + ';Database=' + db_name + ';UID=' + db_user + ';PWD=' + db_password + ';'\r\n#connection_string = 'Driver={SQL Server};Server=' + db_host + ';Database=' + db_name + ';' +' Trusted_Connection=yes;'\r\n#conn = 'Driver={SQL Server};Server=' + db_host + ';Database=' + db_name + ';' +' Trusted_Connection=yes;'\r\n\r\n#2 - open a connection to a SQL database run SQL script to create table if does not exist\r\n#open connection to the database\r\ncursor = pyodbc.connect(connection_string)\r\n\r\n#create the table if it does not exist\r\nSQL = \"IF EXISTS (SELECT * FROM sys.tables WHERE name = 'JsonData' AND type = 'U') DROP TABLE [JsonData]; \"\r\nSQL = SQL + \" CREATE TABLE [dbo].[JsonData]([Data] NVARCHAR(MAX) NULL);\"\r\n\r\ncursor.execute(SQL)\r\ncursor.commit()\r\n\r\n#3 - insert Json string into field in the table\r\n#https://github.com/jiangwen365/pypyodbc\r\ncursor.execute(\"INSERT INTO [dbo].[JsonData]([Data]) VALUES (?)\",(stringOutput,))\r\ncursor.commit()\r\n\r\n#Close connect to the database\r\ncursor.close()",
            "metadata": {},
            "outputs": [],
            "execution_count": 3
        }
    ]
}